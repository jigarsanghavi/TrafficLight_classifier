{
  "nbformat": 4,
  "nbformat_minor": 0,
  "metadata": {
    "colab": {
      "name": "TrafficLight_classifier.ipynb",
      "provenance": [],
      "collapsed_sections": [],
      "authorship_tag": "ABX9TyM/l+aSAHMUmobnCCR7JS1b",
      "include_colab_link": true
    },
    "kernelspec": {
      "name": "python3",
      "display_name": "Python 3"
    },
    "accelerator": "GPU"
  },
  "cells": [
    {
      "cell_type": "markdown",
      "metadata": {
        "id": "view-in-github",
        "colab_type": "text"
      },
      "source": [
        "<a href=\"https://colab.research.google.com/github/jigarsanghavi/TrafficLight_classifier/blob/master/TrafficLight_classifier.ipynb\" target=\"_parent\"><img src=\"https://colab.research.google.com/assets/colab-badge.svg\" alt=\"Open In Colab\"/></a>"
      ]
    },
    {
      "cell_type": "code",
      "metadata": {
        "id": "XkTspaESju1C",
        "colab_type": "code",
        "outputId": "8db37b44-1dc5-41a2-a05c-7cd3f3b282cf",
        "colab": {
          "base_uri": "https://localhost:8080/",
          "height": 224
        }
      },
      "source": [
        "!pip install kaggle"
      ],
      "execution_count": 1,
      "outputs": [
        {
          "output_type": "stream",
          "text": [
            "Requirement already satisfied: kaggle in /usr/local/lib/python3.6/dist-packages (1.5.6)\n",
            "Requirement already satisfied: certifi in /usr/local/lib/python3.6/dist-packages (from kaggle) (2020.4.5.1)\n",
            "Requirement already satisfied: python-slugify in /usr/local/lib/python3.6/dist-packages (from kaggle) (4.0.0)\n",
            "Requirement already satisfied: requests in /usr/local/lib/python3.6/dist-packages (from kaggle) (2.23.0)\n",
            "Requirement already satisfied: urllib3<1.25,>=1.21.1 in /usr/local/lib/python3.6/dist-packages (from kaggle) (1.24.3)\n",
            "Requirement already satisfied: six>=1.10 in /usr/local/lib/python3.6/dist-packages (from kaggle) (1.12.0)\n",
            "Requirement already satisfied: python-dateutil in /usr/local/lib/python3.6/dist-packages (from kaggle) (2.8.1)\n",
            "Requirement already satisfied: tqdm in /usr/local/lib/python3.6/dist-packages (from kaggle) (4.41.1)\n",
            "Requirement already satisfied: text-unidecode>=1.3 in /usr/local/lib/python3.6/dist-packages (from python-slugify->kaggle) (1.3)\n",
            "Requirement already satisfied: idna<3,>=2.5 in /usr/local/lib/python3.6/dist-packages (from requests->kaggle) (2.9)\n",
            "Requirement already satisfied: chardet<4,>=3.0.2 in /usr/local/lib/python3.6/dist-packages (from requests->kaggle) (3.0.4)\n"
          ],
          "name": "stdout"
        }
      ]
    },
    {
      "cell_type": "code",
      "metadata": {
        "id": "qhnCXOZgk1Qw",
        "colab_type": "code",
        "outputId": "65ec5831-7f22-4613-840a-fc53c53d5672",
        "colab": {
          "base_uri": "https://localhost:8080/",
          "height": 34
        }
      },
      "source": [
        "from googleapiclient.discovery import build\n",
        "import io, os\n",
        "from googleapiclient.http import MediaIoBaseDownload\n",
        "from google.colab import auth\n",
        "auth.authenticate_user()\n",
        "drive_service = build('drive', 'v3')\n",
        "results = drive_service.files().list(\n",
        "    q=\"name = 'kaggle.json'\", fields=\"files(id)\").execute()\n",
        "kaggle_api_key = results.get('files', [])\n",
        "# print(kaggle_api_key)\n",
        "filename = \"/content/.kaggle/kaggle.json\"\n",
        "os.makedirs(os.path.dirname(filename), exist_ok=True)\n",
        "request = drive_service.files().get_media(fileId=kaggle_api_key[0]['id'])\n",
        "fh = io.FileIO(filename, 'wb')\n",
        "downloader = MediaIoBaseDownload(fh, request)\n",
        "done = False\n",
        "while done is False:\n",
        "    status, done = downloader.next_chunk()\n",
        "    print(\"Download %d%%.\" % int(status.progress() * 100))\n",
        "os.chmod(filename, 600)"
      ],
      "execution_count": 2,
      "outputs": [
        {
          "output_type": "stream",
          "text": [
            "Download 100%.\n"
          ],
          "name": "stdout"
        }
      ]
    },
    {
      "cell_type": "code",
      "metadata": {
        "id": "WQPWY7Fsk5h3",
        "colab_type": "code",
        "colab": {}
      },
      "source": [
        "!cp /content/.kaggle/kaggle.json ~/.kaggle/kaggle.json"
      ],
      "execution_count": 0,
      "outputs": []
    },
    {
      "cell_type": "code",
      "metadata": {
        "id": "jyBelKkJlElN",
        "colab_type": "code",
        "outputId": "258e1499-a869-420e-91b4-1714a459344b",
        "colab": {
          "base_uri": "https://localhost:8080/",
          "height": 68
        }
      },
      "source": [
        "!kaggle datasets download -d meowmeowmeowmeowmeow/gtsrb-german-traffic-sign"
      ],
      "execution_count": 6,
      "outputs": [
        {
          "output_type": "stream",
          "text": [
            "Downloading gtsrb-german-traffic-sign.zip to /content\n",
            " 98% 602M/612M [00:09<00:00, 62.1MB/s]\n",
            "100% 612M/612M [00:09<00:00, 65.3MB/s]\n"
          ],
          "name": "stdout"
        }
      ]
    },
    {
      "cell_type": "code",
      "metadata": {
        "id": "nXneMp51lRzX",
        "colab_type": "code",
        "colab": {}
      },
      "source": [
        "!unzip /content/gtsrb-german-traffic-sign.zip\n"
      ],
      "execution_count": 0,
      "outputs": []
    },
    {
      "cell_type": "code",
      "metadata": {
        "id": "5M_ERrSsljHe",
        "colab_type": "code",
        "outputId": "64c2490a-ae81-463f-a4d8-7e6b575b5c87",
        "colab": {
          "base_uri": "https://localhost:8080/",
          "height": 34
        }
      },
      "source": [
        "import pandas as pd\n",
        "import numpy as np\n",
        "import os, shutil\n",
        "import cv2\n",
        "from PIL import Image\n",
        "import imutils\n",
        "import numpy as np\n",
        "import matplotlib.pyplot as plt\n",
        "import tensorflow as tf\n",
        "from tensorflow.keras.preprocessing.image import ImageDataGenerator\n",
        "from tensorflow.keras.preprocessing import image\n",
        "from keras.applications.resnet50 import preprocess_input, decode_predictions"
      ],
      "execution_count": 8,
      "outputs": [
        {
          "output_type": "stream",
          "text": [
            "Using TensorFlow backend.\n"
          ],
          "name": "stderr"
        }
      ]
    },
    {
      "cell_type": "code",
      "metadata": {
        "id": "8C5y4RHumiFc",
        "colab_type": "code",
        "colab": {}
      },
      "source": [
        "from tensorflow.keras.layers import Conv2D, Input, ZeroPadding2D, BatchNormalization, Activation, MaxPooling2D, Flatten, Dense,GlobalAveragePooling2D\n",
        "from tensorflow.keras.models import Model, load_model\n",
        "from tensorflow.keras.callbacks import TensorBoard, ModelCheckpoint\n",
        "from sklearn.model_selection import train_test_split\n",
        "from sklearn.utils import shuffle\n",
        "from tensorflow.keras.applications.resnet50 import ResNet50\n",
        "from tensorflow.keras.layers import Dropout\n",
        "import time"
      ],
      "execution_count": 0,
      "outputs": []
    },
    {
      "cell_type": "code",
      "metadata": {
        "id": "AAlH_muPmnvC",
        "colab_type": "code",
        "colab": {}
      },
      "source": [
        "path = '/content/train'\n",
        "classes = 43\n",
        "data = []\n",
        "labels = []\n",
        "for filename in range(classes):\n",
        "  for images in os.listdir(path+'/'+str(filename)):\n",
        "    path1 = path+'/'+str(filename)+'/'+images\n",
        "    try:\n",
        "      img = image.load_img(path1, target_size=(64, 64))\n",
        "        # convert PIL.Image.Image type to 3D tensor with shape (64, 64, 3)\n",
        "      x = image.img_to_array(img)\n",
        "        # convert 3D tensor to 4D tensor with shape (1, 64, 64, 3) and return 4D tensor\n",
        "      x = np.expand_dims(x, axis=0)\n",
        "      img = preprocess_input(x)\n",
        "      data.append(img)\n",
        "      labels.append(filename)\n",
        "    except:\n",
        "      print('Error loading image')\n",
        "\n",
        "\n",
        "\n"
      ],
      "execution_count": 0,
      "outputs": []
    },
    {
      "cell_type": "code",
      "metadata": {
        "id": "yLIZlqVHp5E5",
        "colab_type": "code",
        "outputId": "b73db65a-92c7-418a-b270-ba6cc9bb57fb",
        "colab": {
          "base_uri": "https://localhost:8080/",
          "height": 68
        }
      },
      "source": [
        "img_data = np.asanyarray(data)\n",
        "print (img_data.shape)\n",
        "img_data=np.rollaxis(img_data,1,0)\n",
        "print (img_data.shape)\n",
        "img_data=img_data[0]\n",
        "print (img_data.shape)"
      ],
      "execution_count": 11,
      "outputs": [
        {
          "output_type": "stream",
          "text": [
            "(39209, 1, 64, 64, 3)\n",
            "(1, 39209, 64, 64, 3)\n",
            "(39209, 64, 64, 3)\n"
          ],
          "name": "stdout"
        }
      ]
    },
    {
      "cell_type": "code",
      "metadata": {
        "id": "6dxXcbv4qiUN",
        "colab_type": "code",
        "outputId": "745cdf11-92e6-4977-fb9e-59e48072ea66",
        "colab": {
          "base_uri": "https://localhost:8080/",
          "height": 34
        }
      },
      "source": [
        "labels = np.asanyarray(labels)\n",
        "from keras.utils import to_categorical\n",
        "labels = to_categorical(labels)\n",
        "labels.shape"
      ],
      "execution_count": 12,
      "outputs": [
        {
          "output_type": "execute_result",
          "data": {
            "text/plain": [
              "(39209, 43)"
            ]
          },
          "metadata": {
            "tags": []
          },
          "execution_count": 12
        }
      ]
    },
    {
      "cell_type": "code",
      "metadata": {
        "id": "R4UcBZulqswU",
        "colab_type": "code",
        "outputId": "1e5dbc8b-f558-4b6a-ff6d-f079145058e9",
        "colab": {
          "base_uri": "https://localhost:8080/",
          "height": 51
        }
      },
      "source": [
        "x_train,x_val,y_train,y_val = train_test_split(img_data,labels,test_size = 0.2)\n",
        "print(x_train.shape,y_train.shape)\n",
        "print(x_val.shape,y_val.shape)"
      ],
      "execution_count": 13,
      "outputs": [
        {
          "output_type": "stream",
          "text": [
            "(31367, 64, 64, 3) (31367, 43)\n",
            "(7842, 64, 64, 3) (7842, 43)\n"
          ],
          "name": "stdout"
        }
      ]
    },
    {
      "cell_type": "code",
      "metadata": {
        "id": "cskgH7xqxfZu",
        "colab_type": "code",
        "colab": {}
      },
      "source": [
        "from tensorflow.keras.layers import Flatten"
      ],
      "execution_count": 0,
      "outputs": []
    },
    {
      "cell_type": "code",
      "metadata": {
        "id": "EL7_NKVSrK_R",
        "colab_type": "code",
        "outputId": "5968dc68-1be5-4ca2-c04a-eef4fbea9cc8",
        "colab": {
          "base_uri": "https://localhost:8080/",
          "height": 765
        }
      },
      "source": [
        "input_shape = (64,64,3)\n",
        "X_input = Input(input_shape) \n",
        "    # CONV -> BN -> RELU Block applied to X\n",
        "X = Conv2D(32, (5, 5), name = 'conv0')(X_input)\n",
        "X = Activation('relu')(X)\n",
        "X = Conv2D(32, (5, 5), name = 'conv01')(X)\n",
        "X = BatchNormalization(axis = 3, name = 'bn01')(X)\n",
        "X = Activation('relu')(X)\n",
        "X = MaxPooling2D((2, 2), name='max_pool0')(X)\n",
        "X = Dropout(rate= 0.25)(X)\n",
        "X = Conv2D(64, (3, 3), name = 'conv1')(X)\n",
        "X = Activation('relu')(X)\n",
        "X = Conv2D(64, (3, 3), name = 'conv11')(X)\n",
        "X = BatchNormalization(axis = 3, name = 'bn1')(X)\n",
        "X = Activation('relu')(X)\n",
        "X = MaxPooling2D((2, 2), name='max_pool1')(X)\n",
        "X = Dropout(rate= 0.25)(X)\n",
        "X = Flatten()(X)\n",
        "X = Dense(256,activation='relu',name='Dense')(X)\n",
        "output = Dense(43,activation='softmax',name='Output_layer')(X)\n",
        "model = Model(inputs = X_input, outputs = output, name='Traffic_signal_Detector')  \n",
        "\n",
        "model.summary()\n",
        "\n",
        "    "
      ],
      "execution_count": 15,
      "outputs": [
        {
          "output_type": "stream",
          "text": [
            "Model: \"Traffic_signal_Detector\"\n",
            "_________________________________________________________________\n",
            "Layer (type)                 Output Shape              Param #   \n",
            "=================================================================\n",
            "input_1 (InputLayer)         [(None, 64, 64, 3)]       0         \n",
            "_________________________________________________________________\n",
            "conv0 (Conv2D)               (None, 60, 60, 32)        2432      \n",
            "_________________________________________________________________\n",
            "activation (Activation)      (None, 60, 60, 32)        0         \n",
            "_________________________________________________________________\n",
            "conv01 (Conv2D)              (None, 56, 56, 32)        25632     \n",
            "_________________________________________________________________\n",
            "bn01 (BatchNormalization)    (None, 56, 56, 32)        128       \n",
            "_________________________________________________________________\n",
            "activation_1 (Activation)    (None, 56, 56, 32)        0         \n",
            "_________________________________________________________________\n",
            "max_pool0 (MaxPooling2D)     (None, 28, 28, 32)        0         \n",
            "_________________________________________________________________\n",
            "dropout (Dropout)            (None, 28, 28, 32)        0         \n",
            "_________________________________________________________________\n",
            "conv1 (Conv2D)               (None, 26, 26, 64)        18496     \n",
            "_________________________________________________________________\n",
            "activation_2 (Activation)    (None, 26, 26, 64)        0         \n",
            "_________________________________________________________________\n",
            "conv11 (Conv2D)              (None, 24, 24, 64)        36928     \n",
            "_________________________________________________________________\n",
            "bn1 (BatchNormalization)     (None, 24, 24, 64)        256       \n",
            "_________________________________________________________________\n",
            "activation_3 (Activation)    (None, 24, 24, 64)        0         \n",
            "_________________________________________________________________\n",
            "max_pool1 (MaxPooling2D)     (None, 12, 12, 64)        0         \n",
            "_________________________________________________________________\n",
            "dropout_1 (Dropout)          (None, 12, 12, 64)        0         \n",
            "_________________________________________________________________\n",
            "flatten (Flatten)            (None, 9216)              0         \n",
            "_________________________________________________________________\n",
            "Dense (Dense)                (None, 256)               2359552   \n",
            "_________________________________________________________________\n",
            "Output_layer (Dense)         (None, 43)                11051     \n",
            "=================================================================\n",
            "Total params: 2,454,475\n",
            "Trainable params: 2,454,283\n",
            "Non-trainable params: 192\n",
            "_________________________________________________________________\n"
          ],
          "name": "stdout"
        }
      ]
    },
    {
      "cell_type": "code",
      "metadata": {
        "id": "j4dE66YZuwbo",
        "colab_type": "code",
        "colab": {}
      },
      "source": [
        "model.compile(optimizer='adam', loss='categorical_crossentropy', metrics=['accuracy'])"
      ],
      "execution_count": 0,
      "outputs": []
    },
    {
      "cell_type": "code",
      "metadata": {
        "id": "7vfqCyPpxyE6",
        "colab_type": "code",
        "outputId": "61031bd1-ae48-4418-d52f-a23f4a8faf79",
        "colab": {
          "base_uri": "https://localhost:8080/",
          "height": 326
        }
      },
      "source": [
        "start_time = time.time()\n",
        "\n",
        "model.fit(x=x_train, y=y_train, batch_size=64, epochs=8, validation_data=(x_val, y_val))\n",
        "\n",
        "end_time = time.time()\n",
        "execution_time = (end_time - start_time)\n",
        "print('execution time:',execution_time)"
      ],
      "execution_count": 17,
      "outputs": [
        {
          "output_type": "stream",
          "text": [
            "Epoch 1/8\n",
            "491/491 [==============================] - 10s 21ms/step - loss: 1.3111 - accuracy: 0.6694 - val_loss: 0.2292 - val_accuracy: 0.9416\n",
            "Epoch 2/8\n",
            "491/491 [==============================] - 10s 20ms/step - loss: 0.1048 - accuracy: 0.9709 - val_loss: 0.0660 - val_accuracy: 0.9848\n",
            "Epoch 3/8\n",
            "491/491 [==============================] - 10s 20ms/step - loss: 0.0531 - accuracy: 0.9847 - val_loss: 0.0863 - val_accuracy: 0.9741\n",
            "Epoch 4/8\n",
            "491/491 [==============================] - 10s 20ms/step - loss: 0.0355 - accuracy: 0.9889 - val_loss: 0.0632 - val_accuracy: 0.9842\n",
            "Epoch 5/8\n",
            "491/491 [==============================] - 10s 20ms/step - loss: 0.0279 - accuracy: 0.9910 - val_loss: 0.0467 - val_accuracy: 0.9888\n",
            "Epoch 6/8\n",
            "491/491 [==============================] - 10s 20ms/step - loss: 0.0286 - accuracy: 0.9908 - val_loss: 0.0513 - val_accuracy: 0.9883\n",
            "Epoch 7/8\n",
            "491/491 [==============================] - 10s 20ms/step - loss: 0.0258 - accuracy: 0.9927 - val_loss: 0.0714 - val_accuracy: 0.9819\n",
            "Epoch 8/8\n",
            "491/491 [==============================] - 10s 20ms/step - loss: 0.0190 - accuracy: 0.9938 - val_loss: 0.0863 - val_accuracy: 0.9807\n",
            "execution time: 87.26471424102783\n"
          ],
          "name": "stdout"
        }
      ]
    },
    {
      "cell_type": "code",
      "metadata": {
        "id": "vYazRMPZzr7E",
        "colab_type": "code",
        "outputId": "b1852b45-6c31-4834-dd85-5d5be2294132",
        "colab": {
          "base_uri": "https://localhost:8080/",
          "height": 54
        }
      },
      "source": [
        "history = model.history.history\n",
        "print(history)"
      ],
      "execution_count": 18,
      "outputs": [
        {
          "output_type": "stream",
          "text": [
            "{'loss': [1.311109185218811, 0.10483686625957489, 0.05314529314637184, 0.03546769171953201, 0.02791888453066349, 0.028618380427360535, 0.025827383622527122, 0.01898428611457348], 'accuracy': [0.6693658828735352, 0.9708610773086548, 0.9846653938293457, 0.9889055490493774, 0.9910096526145935, 0.9907546043395996, 0.9926674365997314, 0.9937514066696167], 'val_loss': [0.22923661768436432, 0.06596080958843231, 0.08631991595029831, 0.06320154666900635, 0.046663280576467514, 0.05128646641969681, 0.07144913822412491, 0.08632344007492065], 'val_accuracy': [0.941596508026123, 0.9848253130912781, 0.9741137623786926, 0.9841877222061157, 0.9887783527374268, 0.9882683157920837, 0.9818923473358154, 0.9807447195053101]}\n"
          ],
          "name": "stdout"
        }
      ]
    },
    {
      "cell_type": "code",
      "metadata": {
        "id": "o2lDLk9sza4k",
        "colab_type": "code",
        "outputId": "5a252202-721f-4fb2-91e5-169ba852a7a9",
        "colab": {
          "base_uri": "https://localhost:8080/",
          "height": 545
        }
      },
      "source": [
        "train_loss = history['loss']\n",
        "val_loss = history['val_loss']\n",
        "train_acc = history['accuracy']\n",
        "val_acc = history['val_accuracy']\n",
        "    \n",
        "    # Loss\n",
        "plt.figure()\n",
        "plt.plot(train_loss, label='Training Loss')\n",
        "plt.plot(val_loss, label='Validation Loss')\n",
        "plt.title('Loss')\n",
        "plt.legend()\n",
        "plt.show()\n",
        "    \n",
        "    # Accuracy\n",
        "plt.figure()\n",
        "plt.plot(train_acc, label='Training Accuracy')\n",
        "plt.plot(val_acc, label='Validation Accuracy')\n",
        "plt.title('Accuracy')\n",
        "plt.legend()\n",
        "plt.show()"
      ],
      "execution_count": 19,
      "outputs": [
        {
          "output_type": "display_data",
          "data": {
            "image/png": "[encoded data removed]",
            "text/plain": [
              "<Figure size 432x288 with 1 Axes>"
            ]
          },
          "metadata": {
            "tags": [],
            "needs_background": "light"
          }
        },
        {
          "output_type": "display_data",
          "data": {
            "image/png": "[encoded data removed]",
            "text/plain": [
              "<Figure size 432x288 with 1 Axes>"
            ]
          },
          "metadata": {
            "tags": [],
            "needs_background": "light"
          }
        }
      ]
    },
    {
      "cell_type": "code",
      "metadata": {
        "id": "MlhgENVK0QEF",
        "colab_type": "code",
        "outputId": "7ec0d315-3a75-4381-cd56-55f358f22f5c",
        "colab": {
          "base_uri": "https://localhost:8080/",
          "height": 204
        }
      },
      "source": [
        "y_test = pd.read_csv('Test.csv')\n",
        "y_test.head()"
      ],
      "execution_count": 20,
      "outputs": [
        {
          "output_type": "execute_result",
          "data": {
            "text/html": [
              "<div>\n",
              "<style scoped>\n",
              "    .dataframe tbody tr th:only-of-type {\n",
              "        vertical-align: middle;\n",
              "    }\n",
              "\n",
              "    .dataframe tbody tr th {\n",
              "        vertical-align: top;\n",
              "    }\n",
              "\n",
              "    .dataframe thead th {\n",
              "        text-align: right;\n",
              "    }\n",
              "</style>\n",
              "<table border=\"1\" class=\"dataframe\">\n",
              "  <thead>\n",
              "    <tr style=\"text-align: right;\">\n",
              "      <th></th>\n",
              "      <th>Width</th>\n",
              "      <th>Height</th>\n",
              "      <th>Roi.X1</th>\n",
              "      <th>Roi.Y1</th>\n",
              "      <th>Roi.X2</th>\n",
              "      <th>Roi.Y2</th>\n",
              "      <th>ClassId</th>\n",
              "      <th>Path</th>\n",
              "    </tr>\n",
              "  </thead>\n",
              "  <tbody>\n",
              "    <tr>\n",
              "      <th>0</th>\n",
              "      <td>53</td>\n",
              "      <td>54</td>\n",
              "      <td>6</td>\n",
              "      <td>5</td>\n",
              "      <td>48</td>\n",
              "      <td>49</td>\n",
              "      <td>16</td>\n",
              "      <td>Test/00000.png</td>\n",
              "    </tr>\n",
              "    <tr>\n",
              "      <th>1</th>\n",
              "      <td>42</td>\n",
              "      <td>45</td>\n",
              "      <td>5</td>\n",
              "      <td>5</td>\n",
              "      <td>36</td>\n",
              "      <td>40</td>\n",
              "      <td>1</td>\n",
              "      <td>Test/00001.png</td>\n",
              "    </tr>\n",
              "    <tr>\n",
              "      <th>2</th>\n",
              "      <td>48</td>\n",
              "      <td>52</td>\n",
              "      <td>6</td>\n",
              "      <td>6</td>\n",
              "      <td>43</td>\n",
              "      <td>47</td>\n",
              "      <td>38</td>\n",
              "      <td>Test/00002.png</td>\n",
              "    </tr>\n",
              "    <tr>\n",
              "      <th>3</th>\n",
              "      <td>27</td>\n",
              "      <td>29</td>\n",
              "      <td>5</td>\n",
              "      <td>5</td>\n",
              "      <td>22</td>\n",
              "      <td>24</td>\n",
              "      <td>33</td>\n",
              "      <td>Test/00003.png</td>\n",
              "    </tr>\n",
              "    <tr>\n",
              "      <th>4</th>\n",
              "      <td>60</td>\n",
              "      <td>57</td>\n",
              "      <td>5</td>\n",
              "      <td>5</td>\n",
              "      <td>55</td>\n",
              "      <td>52</td>\n",
              "      <td>11</td>\n",
              "      <td>Test/00004.png</td>\n",
              "    </tr>\n",
              "  </tbody>\n",
              "</table>\n",
              "</div>"
            ],
            "text/plain": [
              "   Width  Height  Roi.X1  Roi.Y1  Roi.X2  Roi.Y2  ClassId            Path\n",
              "0     53      54       6       5      48      49       16  Test/00000.png\n",
              "1     42      45       5       5      36      40        1  Test/00001.png\n",
              "2     48      52       6       6      43      47       38  Test/00002.png\n",
              "3     27      29       5       5      22      24       33  Test/00003.png\n",
              "4     60      57       5       5      55      52       11  Test/00004.png"
            ]
          },
          "metadata": {
            "tags": []
          },
          "execution_count": 20
        }
      ]
    },
    {
      "cell_type": "code",
      "metadata": {
        "id": "nq69GSe60-lz",
        "colab_type": "code",
        "colab": {}
      },
      "source": [
        "labels = y_test['ClassId'].values\n",
        "img_path = y_test['Path'].values\n",
        "\n",
        "test_data = []\n",
        "for imgs in img_path:\n",
        "  img = image.load_img(imgs, target_size=(64, 64))\n",
        "        # convert PIL.Image.Image type to 3D tensor with shape (64, 64, 3)\n",
        "  img = image.img_to_array(img)\n",
        "  img = preprocess_input(img)\n",
        "  test_data.append(img)\n",
        "test_data = np.asanyarray(test_data)\n",
        "\n",
        "pred_labels = model.predict(test_data)"
      ],
      "execution_count": 0,
      "outputs": []
    },
    {
      "cell_type": "code",
      "metadata": {
        "id": "TRasPXLL3IDj",
        "colab_type": "code",
        "colab": {}
      },
      "source": [
        "pred_class = []\n",
        "for classes in pred_labels:\n",
        "  pred_class.append(np.argmax(classes))\n",
        "\n"
      ],
      "execution_count": 0,
      "outputs": []
    },
    {
      "cell_type": "code",
      "metadata": {
        "id": "K0R95b176SJM",
        "colab_type": "code",
        "outputId": "95484813-e71a-45ab-d41a-13fc681e3c73",
        "colab": {
          "base_uri": "https://localhost:8080/",
          "height": 34
        }
      },
      "source": [
        "from sklearn.metrics import accuracy_score\n",
        "accuracy_score(labels,pred_class)"
      ],
      "execution_count": 23,
      "outputs": [
        {
          "output_type": "execute_result",
          "data": {
            "text/plain": [
              "0.9523357086302454"
            ]
          },
          "metadata": {
            "tags": []
          },
          "execution_count": 23
        }
      ]
    },
    {
      "cell_type": "code",
      "metadata": {
        "id": "uMFtllSf9OfY",
        "colab_type": "code",
        "colab": {}
      },
      "source": [
        "model.save('TrafficLight_classifier.h5')"
      ],
      "execution_count": 0,
      "outputs": []
    },
    {
      "cell_type": "code",
      "metadata": {
        "id": "doaOzjPp6sv_",
        "colab_type": "code",
        "colab": {}
      },
      "source": [
        "import tkinter as tk\n",
        "from tkinter import filedialog\n",
        "from tkinter import *\n",
        "from PIL import ImageTk, Image\n",
        "#load the trained model to classify sign\n",
        "from keras.models import load_model\n",
        "model = load_model('TrafficLight_classifier.h5')\n",
        "#dictionary to label all traffic signs class.\n",
        "classes = { 1:'Speed limit (20km/h)',\n",
        "            2:'Speed limit (30km/h)', \n",
        "            3:'Speed limit (50km/h)', \n",
        "            4:'Speed limit (60km/h)', \n",
        "            5:'Speed limit (70km/h)', \n",
        "            6:'Speed limit (80km/h)', \n",
        "            7:'End of speed limit (80km/h)', \n",
        "            8:'Speed limit (100km/h)', \n",
        "            9:'Speed limit (120km/h)', \n",
        "            10:'No passing', \n",
        "            11:'No passing veh over 3.5 tons', \n",
        "            12:'Right-of-way at intersection', \n",
        "            13:'Priority road', \n",
        "            14:'Yield', \n",
        "            15:'Stop', \n",
        "            16:'No vehicles', \n",
        "            17:'Veh > 3.5 tons prohibited', \n",
        "            18:'No entry', \n",
        "            19:'General caution', \n",
        "            20:'Dangerous curve left', \n",
        "            21:'Dangerous curve right', \n",
        "            22:'Double curve', \n",
        "            23:'Bumpy road', \n",
        "            24:'Slippery road', \n",
        "            25:'Road narrows on the right', \n",
        "            26:'Road work', \n",
        "            27:'Traffic signals', \n",
        "            28:'Pedestrians', \n",
        "            29:'Children crossing', \n",
        "            30:'Bicycles crossing', \n",
        "            31:'Beware of ice/snow',\n",
        "            32:'Wild animals crossing', \n",
        "            33:'End speed + passing limits', \n",
        "            34:'Turn right ahead', \n",
        "            35:'Turn left ahead', \n",
        "            36:'Ahead only', \n",
        "            37:'Go straight or right', \n",
        "            38:'Go straight or left', \n",
        "            39:'Keep right', \n",
        "            40:'Keep left', \n",
        "            41:'Roundabout mandatory', \n",
        "            42:'End of no passing', \n",
        "            43:'End no passing veh > 3.5 tons' }\n",
        "#initialise GUI\n",
        "top=tk.Tk()\n",
        "top.geometry('800x600')\n",
        "top.title('Traffic sign classification')\n",
        "top.configure(background='#CDCDCD')\n",
        "label=Label(top,background='#CDCDCD', font=('arial',15,'bold'))\n",
        "sign_image = Label(top)\n",
        "top=tk.Tk()\n",
        "top.geometry('800x600')\n",
        "top.title('Traffic sign classification')\n",
        "top.configure(background='#CDCDCD')\n",
        "label=Label(top,background='#CDCDCD', font=('arial',15,'bold'))\n",
        "sign_image = Label(top)\n",
        "def classify(file_path):\n",
        "    global label_packed\n",
        "    image = Image.open(file_path)\n",
        "    image = image.resize((30,30))\n",
        "    image = numpy.expand_dims(image, axis=0)\n",
        "    image = numpy.array(image)\n",
        "    pred = model.predict([image])\n",
        "    pred = np.argmax(pred)\n",
        "    sign = classes[pred+1]\n",
        "    print(sign)\n",
        "    label.configure(foreground='#011638', text=sign) \n",
        "def show_classify_button(file_path):\n",
        "    classify_b=Button(top,text=\"Classify Image\",command=lambda: classify(file_path),padx=10,pady=5)\n",
        "    classify_b.configure(background='#364156', foreground='white',font=('arial',10,'bold'))\n",
        "    classify_b.place(relx=0.79,rely=0.46)\n",
        "def upload_image():\n",
        "    try:\n",
        "        file_path=filedialog.askopenfilename()\n",
        "        uploaded=Image.open(file_path)\n",
        "        uploaded.thumbnail(((top.winfo_width()/2.25),(top.winfo_height()/2.25)))\n",
        "        im=ImageTk.PhotoImage(uploaded)\n",
        "        sign_image.configure(image=im)\n",
        "        sign_image.image=im\n",
        "        label.configure(text='')\n",
        "        show_classify_button(file_path)\n",
        "    except:\n",
        "        pass\n",
        "upload=Button(top,text=\"Upload an image\",command=upload_image,padx=10,pady=5)\n",
        "upload.configure(background='#364156', foreground='white',font=('arial',10,'bold'))\n",
        "upload.pack(side=BOTTOM,pady=50)\n",
        "sign_image.pack(side=BOTTOM,expand=True)\n",
        "label.pack(side=BOTTOM,expand=True)\n",
        "heading = Label(top, text=\"Know Your Traffic Sign\",pady=20, font=('arial',20,'bold'))\n",
        "heading.configure(background='#CDCDCD',foreground='#364156')\n",
        "heading.pack()\n",
        "top.mainloop()\n"
      ],
      "execution_count": 0,
      "outputs": []
    }
  ]
}